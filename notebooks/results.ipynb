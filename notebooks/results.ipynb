{
 "cells": [
  {
   "cell_type": "code",
   "execution_count": 1,
   "metadata": {},
   "outputs": [],
   "source": [
    "from os import listdir\n",
    "from os.path import isfile, join\n",
    "import pickle\n",
    "import tensorflow.keras.saving as ker_saving"
   ]
  },
  {
   "cell_type": "code",
   "execution_count": 2,
   "metadata": {},
   "outputs": [],
   "source": [
    "model_base = \"../models\"\n",
    "\n",
    "res = []\n",
    "models = dict()\n",
    "\n",
    "for f_name in listdir(model_base):\n",
    "    path = join(model_base, f_name)\n",
    "    if isfile(path):\n",
    "        try:\n",
    "            with open(path, 'rb') as f:\n",
    "                model = pickle.load(f)\n",
    "                models[f_name] = model\n",
    "        except pickle.UnpicklingError:\n",
    "            model = ker_saving.load_model(path)\n",
    "            models[f_name] = model"
   ]
  },
  {
   "cell_type": "code",
   "execution_count": 3,
   "metadata": {},
   "outputs": [
    {
     "name": "stdout",
     "output_type": "stream",
     "text": [
      "CatBoostClassifier.pkl\n",
      "LogisticRegression.pkl\n",
      "nn.keras\n",
      "RandomForestClassifier.pkl\n"
     ]
    }
   ],
   "source": [
    "for name, model in models.items():\n",
    "    print(name)"
   ]
  },
  {
   "cell_type": "code",
   "execution_count": null,
   "metadata": {},
   "outputs": [],
   "source": []
  }
 ],
 "metadata": {
  "kernelspec": {
   "display_name": "Python 3",
   "language": "python",
   "name": "python3"
  },
  "language_info": {
   "codemirror_mode": {
    "name": "ipython",
    "version": 3
   },
   "file_extension": ".py",
   "mimetype": "text/x-python",
   "name": "python",
   "nbconvert_exporter": "python",
   "pygments_lexer": "ipython3",
   "version": "3.12.2"
  }
 },
 "nbformat": 4,
 "nbformat_minor": 2
}
