{
 "cells": [
  {
   "cell_type": "code",
   "execution_count": 25,
   "metadata": {},
   "outputs": [
    {
     "name": "stdout",
     "output_type": "stream",
     "text": [
      "  publishedTimeText                                         simpleText  votes  \\\n",
      "0       3 weeks ago  If you wonder the dislike ratio: likes: 3.1M d...   1100   \n",
      "1       2 weeks ago  I'm guessing you also have the return youtube ...     36   \n",
      "2       2 weeks ago   @JeromeStoove  how many dislikes does it have...      5   \n",
      "3       2 weeks ago                               @ppanddita  sill 20M      6   \n",
      "4       13 days ago   @JeromeStoove  just found out about it today....      3   \n",
      "\n",
      "             author  isReply  isHearted  isPinned  isPaid  paidAmount  \\\n",
      "0  @MasterBigpotato    False      False     False   False         NaN   \n",
      "1     @JeromeStoove     True      False     False   False         NaN   \n",
      "2        @ppanddita     True      False     False   False         NaN   \n",
      "3     @santiago6296     True      False     False   False         NaN   \n",
      "4          @Rendum7     True      False     False   False         NaN   \n",
      "\n",
      "   isSponsor  sponsorshipMonths  \n",
      "0      False                NaN  \n",
      "1      False                NaN  \n",
      "2      False                NaN  \n",
      "3      False                NaN  \n",
      "4      False                NaN  \n"
     ]
    }
   ],
   "source": [
    "import pandas as pd\n",
    "\n",
    "data = pd.read_csv('../data/YouTube Rewind 2018- Everyone Controls Rewind - -YouTubeRewind 6-6-2024 YbJOTdZBX1g.csv')\n",
    "print(data.head())"
   ]
  },
  {
   "cell_type": "code",
   "execution_count": 26,
   "metadata": {},
   "outputs": [
    {
     "name": "stdout",
     "output_type": "stream",
     "text": [
      "  publishedTimeText                                         simpleText  votes  \\\n",
      "0       3 weeks ago  If you wonder the dislike ratio: likes: 3.1M d...   1100   \n",
      "1       2 weeks ago  I'm guessing you also have the return youtube ...     36   \n",
      "2       2 weeks ago  @JeromeStoove how many dislikes does it have now?      5   \n",
      "3       2 weeks ago                                @ppanddita sill 20M      6   \n",
      "4       13 days ago  @JeromeStoove just found out about it today. F...      3   \n",
      "\n",
      "             author  isReply  isHearted  isPinned  isPaid  paidAmount  \\\n",
      "0  @MasterBigpotato    False      False     False   False         NaN   \n",
      "1     @JeromeStoove     True      False     False   False         NaN   \n",
      "2        @ppanddita     True      False     False   False         NaN   \n",
      "3     @santiago6296     True      False     False   False         NaN   \n",
      "4          @Rendum7     True      False     False   False         NaN   \n",
      "\n",
      "   isSponsor  sponsorshipMonths  \n",
      "0      False                NaN  \n",
      "1      False                NaN  \n",
      "2      False                NaN  \n",
      "3      False                NaN  \n",
      "4      False                NaN  \n"
     ]
    }
   ],
   "source": [
    "data['simpleText'] = data['simpleText'].str.encode('ascii', 'ignore').str.decode('ascii')\n",
    "print(data.head())"
   ]
  },
  {
   "cell_type": "code",
   "execution_count": 27,
   "metadata": {},
   "outputs": [
    {
     "name": "stdout",
     "output_type": "stream",
     "text": [
      "  publishedTimeText                                         simpleText  votes  \\\n",
      "0       3 weeks ago  If you wonder the dislike ratio: likes: 3.1M d...   1100   \n",
      "1       2 weeks ago  I'm guessing you also have the return youtube ...     36   \n",
      "2       2 weeks ago                how many dislikes does it have now?      5   \n",
      "3       2 weeks ago                                           sill 20M      6   \n",
      "4       13 days ago       just found out about it today. Fking awesome      3   \n",
      "\n",
      "             author  isReply  isHearted  isPinned  isPaid  paidAmount  \\\n",
      "0  @MasterBigpotato    False      False     False   False         NaN   \n",
      "1     @JeromeStoove     True      False     False   False         NaN   \n",
      "2        @ppanddita     True      False     False   False         NaN   \n",
      "3     @santiago6296     True      False     False   False         NaN   \n",
      "4          @Rendum7     True      False     False   False         NaN   \n",
      "\n",
      "   isSponsor  sponsorshipMonths  \n",
      "0      False                NaN  \n",
      "1      False                NaN  \n",
      "2      False                NaN  \n",
      "3      False                NaN  \n",
      "4      False                NaN  \n"
     ]
    }
   ],
   "source": [
    "import re\n",
    "\n",
    "data['simpleText'] = data['simpleText'].str.replace(r'@([A-Za-z0-9_]+)', repl='', regex=True)\n",
    "data['simpleText'] = data['simpleText'].str.replace(r'([0-9]:[0-9][0-9])', repl='', regex=True)\n",
    "print(data.head())"
   ]
  },
  {
   "cell_type": "code",
   "execution_count": 28,
   "metadata": {},
   "outputs": [],
   "source": [
    "data_export = pd.DataFrame()\n",
    "data_export['text'] = data['simpleText']\n",
    "data_export['isToxic'] = None"
   ]
  },
  {
   "cell_type": "code",
   "execution_count": 30,
   "metadata": {},
   "outputs": [],
   "source": [
    "data_export.to_csv('../data/me_data.csv', index=False)"
   ]
  }
 ],
 "metadata": {
  "kernelspec": {
   "display_name": "Env",
   "language": "python",
   "name": "python3"
  },
  "language_info": {
   "codemirror_mode": {
    "name": "ipython",
    "version": 3
   },
   "file_extension": ".py",
   "mimetype": "text/x-python",
   "name": "python",
   "nbconvert_exporter": "python",
   "pygments_lexer": "ipython3",
   "version": "3.11.3"
  }
 },
 "nbformat": 4,
 "nbformat_minor": 2
}
